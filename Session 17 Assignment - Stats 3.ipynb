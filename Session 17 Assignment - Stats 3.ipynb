{
 "cells": [
  {
   "cell_type": "code",
   "execution_count": 1,
   "metadata": {},
   "outputs": [
    {
     "name": "stdout",
     "output_type": "stream",
     "text": [
      "Null Hypothesis      : There is no effect of raw cornstarch on the glucose level. H0 = 100\n",
      "Alternate Hypothesis : There is an effect of raw cornstarch on the glucose level. HA > 100\n",
      "******************************************************************************************\n",
      "Z score of the sample =  3.2\n",
      "p value for the z-score =  0.9993128620620841\n",
      "\n",
      "Result: Reject the null hypothesis\n"
     ]
    }
   ],
   "source": [
    "'''Blood glucose levels for obese patients have a mean of 100 with a standard deviation of 15. \n",
    "   A researcher thinks that a diet high in raw cornstarch will have a positive effect on blood glucose levels. \n",
    "   A sample of 36 patients who have tried the raw cornstarch diet have a mean glucose level of 108. \n",
    "   Test the hypothesis that the raw cornstarch had an effect or not.'''\n",
    "\n",
    "import numpy as np\n",
    "import scipy.stats as stats\n",
    "\n",
    "def hypothes_test(mean,std_dev,sample_size,sample_mean,alpha):\n",
    "\n",
    "# Calculate the Z-score\n",
    "    std_dev_sample = std_dev/np.sqrt(sample_size)\n",
    "    z_score=(sample_mean-mean)/std_dev_sample\n",
    "    print('Z score of the sample = ', z_score)\n",
    "\n",
    "# Find the probability of this occurrence - p value. \n",
    "\n",
    "    pval=stats.norm.cdf(z_score)\n",
    "    print('p value for the z-score = ', pval)\n",
    "\n",
    "# If pval > alpha, then do not reject the null hypothesis. If pval < alpha, then reject the null hypothesis.\n",
    "\n",
    "    if pval > alpha:\n",
    "        print('\\nResult: Reject the null hypothesis')\n",
    "    else:\n",
    "        print('\\nResult: Do not reject the null hypothesis')\n",
    "\n",
    "# State the Null and Alternate hypothesis\n",
    "# Null hypothesis - There is no effect of raw cornstarch on the glucose level. H0 = 100\n",
    "# Alternate hypothesis - There is an effect of raw cornstarch on the glucose level. HA > 100 \n",
    "\n",
    "print('Null Hypothesis      : There is no effect of raw cornstarch on the glucose level. H0 = 100')\n",
    "print('Alternate Hypothesis : There is an effect of raw cornstarch on the glucose level. HA > 100')\n",
    "print('*' * 90)\n",
    "# Given values in the test are:\n",
    "mean = 100\n",
    "std_dev=15\n",
    "sample_size=36\n",
    "sample_mean=108\n",
    "\n",
    "# Assume the signifcance level, alpha to be 5%. Call hypothesis testing function defined above. \n",
    "\n",
    "hypothes_test(100,15,36,108,0.05)\n"
   ]
  },
  {
   "cell_type": "code",
   "execution_count": 2,
   "metadata": {},
   "outputs": [
    {
     "name": "stdout",
     "output_type": "stream",
     "text": [
      "Mean of difference in proportion :  0.05\n",
      "Standard Deviation of the sample distribution:  0.07061869440877536\n",
      "\n",
      "Probability to get a greater percentage of Republican voters from the second state is  0.2394639918222003\n"
     ]
    }
   ],
   "source": [
    "'''In one state, 52% of the voters are Republicans, and 48% are Democrats. \n",
    "   In a second state, 47% of the voters are Republicans, and 53% are Democrats. \n",
    "   Suppose a simple random sample of 100 voters are surveyed from each state.\n",
    "   What is the probability that the survey will show a greater percentage of Republican voters in the second state \n",
    "   than in the first state?'''\n",
    "\n",
    "# Given values :\n",
    "# Sample Size = n = 100\n",
    "# Let the proportion of voters from the first state be denoted as P1 and PD1. p1=P1*Sample Size \n",
    "# Let the proportion of voters from the second state be denoted as P2 and PD2. p2=P2* Sample Size \n",
    "\n",
    "n=100\n",
    "\n",
    "P1=0.52\n",
    "PD1=0.48\n",
    "p1=0.52* 100\n",
    "P2=0.47\n",
    "PD2=0.53\n",
    "p2=0.47 * 100\n",
    "\n",
    "# Find the mean of difference in proportion\n",
    "mu=(p1-p2)/n \n",
    "print('Mean of difference in proportion : ', mu)\n",
    "\n",
    "std_dev2=np.sqrt((P1*PD1)/n + (P2*PD2)/n)\n",
    "print('Standard Deviation of the sample distribution: ', std_dev2)\n",
    "\n",
    "# Find the probability that p1 is less than p2, ie, p1-p2 < 0\n",
    "# Get the z score for p1-p2\n",
    "z_p1_p2 = (0-mu)/std_dev2\n",
    "\n",
    "# Probability of Z score above:\n",
    "\n",
    "prob_p1_p2=stats.norm.cdf(z_p1_p2)\n",
    "print('\\nProbability to get a greater percentage of Republican voters from the second state is ', prob_p1_p2)"
   ]
  },
  {
   "cell_type": "code",
   "execution_count": 3,
   "metadata": {},
   "outputs": [
    {
     "name": "stdout",
     "output_type": "stream",
     "text": [
      "Z Score of the result in the test =  0.35406698564593303\n",
      "Percentage of people who score below me =  63.84 %\n",
      "\n",
      "My score is in the top 36.16 %\n"
     ]
    }
   ],
   "source": [
    "'''You take the SAT and score 1100. The mean score for the SAT is 1026 and the standard deviation is 209. \n",
    "   How well did you score on the test compared to the average test taker?'''\n",
    "\n",
    "import scipy.stats as stats\n",
    "# Given data:\n",
    "score=1100\n",
    "population_mean = 1026\n",
    "sd=209\n",
    "\n",
    "# Find the Z value of the SAT Score. This will give the value of the score related the mean. \n",
    "# If Z score is positive, it shows the % by which the value is above mean.\n",
    "\n",
    "\n",
    "z_score_test = (score-population_mean)/sd\n",
    "print ('Z Score of the result in the test = ', z_score_test)\n",
    "\n",
    "# Calculate the probability that anyone has score less than 1100. \n",
    "pscore= stats.norm.cdf(z_score_test)\n",
    "print ('Percentage of people who score below me = ', round(pscore*100,2), '%')\n",
    "\n",
    "# Calculate the probability that anyone has score greater than 1100. My score will be in this percentage. \n",
    "print('\\nMy score is in the top', round((1-pscore)* 100,2), '%')"
   ]
  },
  {
   "cell_type": "code",
   "execution_count": null,
   "metadata": {},
   "outputs": [],
   "source": []
  }
 ],
 "metadata": {
  "kernelspec": {
   "display_name": "Python 3",
   "language": "python",
   "name": "python3"
  },
  "language_info": {
   "codemirror_mode": {
    "name": "ipython",
    "version": 3
   },
   "file_extension": ".py",
   "mimetype": "text/x-python",
   "name": "python",
   "nbconvert_exporter": "python",
   "pygments_lexer": "ipython3",
   "version": "3.6.5"
  }
 },
 "nbformat": 4,
 "nbformat_minor": 2
}
